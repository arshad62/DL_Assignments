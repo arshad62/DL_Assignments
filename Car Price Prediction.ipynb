{
 "cells": [
  {
   "cell_type": "code",
   "execution_count": 1,
   "metadata": {},
   "outputs": [],
   "source": [
    "import numpy as np\n",
    "import pandas as pd\n",
    "import matplotlib.pyplot as plt\n",
    "import tensorflow as tf\n",
    "from tensorflow.keras import models,layers,optimizers,losses\n",
    "from tensorflow.keras.models import Sequential\n",
    "from tensorflow.keras.layers import Dense\n",
    "from tensorflow.keras.optimizers import Adam,SGD"
   ]
  },
  {
   "cell_type": "code",
   "execution_count": 2,
   "metadata": {},
   "outputs": [],
   "source": [
    "data=pd.read_csv(\"CarPrice_Assignment.csv\")"
   ]
  },
  {
   "cell_type": "code",
   "execution_count": 6,
   "metadata": {},
   "outputs": [
    {
     "data": {
      "text/html": [
       "<div>\n",
       "<style scoped>\n",
       "    .dataframe tbody tr th:only-of-type {\n",
       "        vertical-align: middle;\n",
       "    }\n",
       "\n",
       "    .dataframe tbody tr th {\n",
       "        vertical-align: top;\n",
       "    }\n",
       "\n",
       "    .dataframe thead th {\n",
       "        text-align: right;\n",
       "    }\n",
       "</style>\n",
       "<table border=\"1\" class=\"dataframe\">\n",
       "  <thead>\n",
       "    <tr style=\"text-align: right;\">\n",
       "      <th></th>\n",
       "      <th>car_ID</th>\n",
       "      <th>symboling</th>\n",
       "      <th>CarName</th>\n",
       "      <th>fueltype</th>\n",
       "      <th>aspiration</th>\n",
       "      <th>doornumber</th>\n",
       "      <th>carbody</th>\n",
       "      <th>drivewheel</th>\n",
       "      <th>enginelocation</th>\n",
       "      <th>wheelbase</th>\n",
       "      <th>...</th>\n",
       "      <th>enginesize</th>\n",
       "      <th>fuelsystem</th>\n",
       "      <th>boreratio</th>\n",
       "      <th>stroke</th>\n",
       "      <th>compressionratio</th>\n",
       "      <th>horsepower</th>\n",
       "      <th>peakrpm</th>\n",
       "      <th>citympg</th>\n",
       "      <th>highwaympg</th>\n",
       "      <th>price</th>\n",
       "    </tr>\n",
       "  </thead>\n",
       "  <tbody>\n",
       "    <tr>\n",
       "      <th>0</th>\n",
       "      <td>1</td>\n",
       "      <td>3</td>\n",
       "      <td>alfa-romero giulia</td>\n",
       "      <td>gas</td>\n",
       "      <td>std</td>\n",
       "      <td>two</td>\n",
       "      <td>convertible</td>\n",
       "      <td>rwd</td>\n",
       "      <td>front</td>\n",
       "      <td>88.6</td>\n",
       "      <td>...</td>\n",
       "      <td>130</td>\n",
       "      <td>mpfi</td>\n",
       "      <td>3.47</td>\n",
       "      <td>2.68</td>\n",
       "      <td>9.0</td>\n",
       "      <td>111</td>\n",
       "      <td>5000</td>\n",
       "      <td>21</td>\n",
       "      <td>27</td>\n",
       "      <td>13495.0</td>\n",
       "    </tr>\n",
       "    <tr>\n",
       "      <th>1</th>\n",
       "      <td>2</td>\n",
       "      <td>3</td>\n",
       "      <td>alfa-romero stelvio</td>\n",
       "      <td>gas</td>\n",
       "      <td>std</td>\n",
       "      <td>two</td>\n",
       "      <td>convertible</td>\n",
       "      <td>rwd</td>\n",
       "      <td>front</td>\n",
       "      <td>88.6</td>\n",
       "      <td>...</td>\n",
       "      <td>130</td>\n",
       "      <td>mpfi</td>\n",
       "      <td>3.47</td>\n",
       "      <td>2.68</td>\n",
       "      <td>9.0</td>\n",
       "      <td>111</td>\n",
       "      <td>5000</td>\n",
       "      <td>21</td>\n",
       "      <td>27</td>\n",
       "      <td>16500.0</td>\n",
       "    </tr>\n",
       "    <tr>\n",
       "      <th>2</th>\n",
       "      <td>3</td>\n",
       "      <td>1</td>\n",
       "      <td>alfa-romero Quadrifoglio</td>\n",
       "      <td>gas</td>\n",
       "      <td>std</td>\n",
       "      <td>two</td>\n",
       "      <td>hatchback</td>\n",
       "      <td>rwd</td>\n",
       "      <td>front</td>\n",
       "      <td>94.5</td>\n",
       "      <td>...</td>\n",
       "      <td>152</td>\n",
       "      <td>mpfi</td>\n",
       "      <td>2.68</td>\n",
       "      <td>3.47</td>\n",
       "      <td>9.0</td>\n",
       "      <td>154</td>\n",
       "      <td>5000</td>\n",
       "      <td>19</td>\n",
       "      <td>26</td>\n",
       "      <td>16500.0</td>\n",
       "    </tr>\n",
       "    <tr>\n",
       "      <th>3</th>\n",
       "      <td>4</td>\n",
       "      <td>2</td>\n",
       "      <td>audi 100 ls</td>\n",
       "      <td>gas</td>\n",
       "      <td>std</td>\n",
       "      <td>four</td>\n",
       "      <td>sedan</td>\n",
       "      <td>fwd</td>\n",
       "      <td>front</td>\n",
       "      <td>99.8</td>\n",
       "      <td>...</td>\n",
       "      <td>109</td>\n",
       "      <td>mpfi</td>\n",
       "      <td>3.19</td>\n",
       "      <td>3.40</td>\n",
       "      <td>10.0</td>\n",
       "      <td>102</td>\n",
       "      <td>5500</td>\n",
       "      <td>24</td>\n",
       "      <td>30</td>\n",
       "      <td>13950.0</td>\n",
       "    </tr>\n",
       "    <tr>\n",
       "      <th>4</th>\n",
       "      <td>5</td>\n",
       "      <td>2</td>\n",
       "      <td>audi 100ls</td>\n",
       "      <td>gas</td>\n",
       "      <td>std</td>\n",
       "      <td>four</td>\n",
       "      <td>sedan</td>\n",
       "      <td>4wd</td>\n",
       "      <td>front</td>\n",
       "      <td>99.4</td>\n",
       "      <td>...</td>\n",
       "      <td>136</td>\n",
       "      <td>mpfi</td>\n",
       "      <td>3.19</td>\n",
       "      <td>3.40</td>\n",
       "      <td>8.0</td>\n",
       "      <td>115</td>\n",
       "      <td>5500</td>\n",
       "      <td>18</td>\n",
       "      <td>22</td>\n",
       "      <td>17450.0</td>\n",
       "    </tr>\n",
       "  </tbody>\n",
       "</table>\n",
       "<p>5 rows × 26 columns</p>\n",
       "</div>"
      ],
      "text/plain": [
       "   car_ID  symboling                   CarName fueltype aspiration doornumber  \\\n",
       "0       1          3        alfa-romero giulia      gas        std        two   \n",
       "1       2          3       alfa-romero stelvio      gas        std        two   \n",
       "2       3          1  alfa-romero Quadrifoglio      gas        std        two   \n",
       "3       4          2               audi 100 ls      gas        std       four   \n",
       "4       5          2                audi 100ls      gas        std       four   \n",
       "\n",
       "       carbody drivewheel enginelocation  wheelbase  ...  enginesize  \\\n",
       "0  convertible        rwd          front       88.6  ...         130   \n",
       "1  convertible        rwd          front       88.6  ...         130   \n",
       "2    hatchback        rwd          front       94.5  ...         152   \n",
       "3        sedan        fwd          front       99.8  ...         109   \n",
       "4        sedan        4wd          front       99.4  ...         136   \n",
       "\n",
       "   fuelsystem  boreratio  stroke compressionratio horsepower  peakrpm citympg  \\\n",
       "0        mpfi       3.47    2.68              9.0        111     5000      21   \n",
       "1        mpfi       3.47    2.68              9.0        111     5000      21   \n",
       "2        mpfi       2.68    3.47              9.0        154     5000      19   \n",
       "3        mpfi       3.19    3.40             10.0        102     5500      24   \n",
       "4        mpfi       3.19    3.40              8.0        115     5500      18   \n",
       "\n",
       "   highwaympg    price  \n",
       "0          27  13495.0  \n",
       "1          27  16500.0  \n",
       "2          26  16500.0  \n",
       "3          30  13950.0  \n",
       "4          22  17450.0  \n",
       "\n",
       "[5 rows x 26 columns]"
      ]
     },
     "execution_count": 6,
     "metadata": {},
     "output_type": "execute_result"
    }
   ],
   "source": [
    "data.head(5)"
   ]
  },
  {
   "cell_type": "code",
   "execution_count": 3,
   "metadata": {},
   "outputs": [
    {
     "data": {
      "text/plain": [
       "(205, 26)"
      ]
     },
     "execution_count": 3,
     "metadata": {},
     "output_type": "execute_result"
    }
   ],
   "source": [
    "data.shape"
   ]
  },
  {
   "cell_type": "code",
   "execution_count": 4,
   "metadata": {},
   "outputs": [
    {
     "data": {
      "text/plain": [
       "<bound method DataFrame.info of      car_ID  symboling                   CarName fueltype aspiration  \\\n",
       "0         1          3        alfa-romero giulia      gas        std   \n",
       "1         2          3       alfa-romero stelvio      gas        std   \n",
       "2         3          1  alfa-romero Quadrifoglio      gas        std   \n",
       "3         4          2               audi 100 ls      gas        std   \n",
       "4         5          2                audi 100ls      gas        std   \n",
       "..      ...        ...                       ...      ...        ...   \n",
       "200     201         -1           volvo 145e (sw)      gas        std   \n",
       "201     202         -1               volvo 144ea      gas      turbo   \n",
       "202     203         -1               volvo 244dl      gas        std   \n",
       "203     204         -1                 volvo 246   diesel      turbo   \n",
       "204     205         -1               volvo 264gl      gas      turbo   \n",
       "\n",
       "    doornumber      carbody drivewheel enginelocation  wheelbase  ...  \\\n",
       "0          two  convertible        rwd          front       88.6  ...   \n",
       "1          two  convertible        rwd          front       88.6  ...   \n",
       "2          two    hatchback        rwd          front       94.5  ...   \n",
       "3         four        sedan        fwd          front       99.8  ...   \n",
       "4         four        sedan        4wd          front       99.4  ...   \n",
       "..         ...          ...        ...            ...        ...  ...   \n",
       "200       four        sedan        rwd          front      109.1  ...   \n",
       "201       four        sedan        rwd          front      109.1  ...   \n",
       "202       four        sedan        rwd          front      109.1  ...   \n",
       "203       four        sedan        rwd          front      109.1  ...   \n",
       "204       four        sedan        rwd          front      109.1  ...   \n",
       "\n",
       "     enginesize  fuelsystem  boreratio  stroke compressionratio horsepower  \\\n",
       "0           130        mpfi       3.47    2.68              9.0        111   \n",
       "1           130        mpfi       3.47    2.68              9.0        111   \n",
       "2           152        mpfi       2.68    3.47              9.0        154   \n",
       "3           109        mpfi       3.19    3.40             10.0        102   \n",
       "4           136        mpfi       3.19    3.40              8.0        115   \n",
       "..          ...         ...        ...     ...              ...        ...   \n",
       "200         141        mpfi       3.78    3.15              9.5        114   \n",
       "201         141        mpfi       3.78    3.15              8.7        160   \n",
       "202         173        mpfi       3.58    2.87              8.8        134   \n",
       "203         145         idi       3.01    3.40             23.0        106   \n",
       "204         141        mpfi       3.78    3.15              9.5        114   \n",
       "\n",
       "     peakrpm citympg  highwaympg    price  \n",
       "0       5000      21          27  13495.0  \n",
       "1       5000      21          27  16500.0  \n",
       "2       5000      19          26  16500.0  \n",
       "3       5500      24          30  13950.0  \n",
       "4       5500      18          22  17450.0  \n",
       "..       ...     ...         ...      ...  \n",
       "200     5400      23          28  16845.0  \n",
       "201     5300      19          25  19045.0  \n",
       "202     5500      18          23  21485.0  \n",
       "203     4800      26          27  22470.0  \n",
       "204     5400      19          25  22625.0  \n",
       "\n",
       "[205 rows x 26 columns]>"
      ]
     },
     "execution_count": 4,
     "metadata": {},
     "output_type": "execute_result"
    }
   ],
   "source": [
    "data.info"
   ]
  },
  {
   "cell_type": "code",
   "execution_count": 5,
   "metadata": {},
   "outputs": [
    {
     "data": {
      "text/plain": [
       "Index(['car_ID', 'symboling', 'CarName', 'fueltype', 'aspiration',\n",
       "       'doornumber', 'carbody', 'drivewheel', 'enginelocation', 'wheelbase',\n",
       "       'carlength', 'carwidth', 'carheight', 'curbweight', 'enginetype',\n",
       "       'cylindernumber', 'enginesize', 'fuelsystem', 'boreratio', 'stroke',\n",
       "       'compressionratio', 'horsepower', 'peakrpm', 'citympg', 'highwaympg',\n",
       "       'price'],\n",
       "      dtype='object')"
      ]
     },
     "execution_count": 5,
     "metadata": {},
     "output_type": "execute_result"
    }
   ],
   "source": [
    "data.columns"
   ]
  },
  {
   "cell_type": "code",
   "execution_count": 6,
   "metadata": {},
   "outputs": [
    {
     "data": {
      "text/plain": [
       "car_ID              0\n",
       "symboling           0\n",
       "CarName             0\n",
       "fueltype            0\n",
       "aspiration          0\n",
       "doornumber          0\n",
       "carbody             0\n",
       "drivewheel          0\n",
       "enginelocation      0\n",
       "wheelbase           0\n",
       "carlength           0\n",
       "carwidth            0\n",
       "carheight           0\n",
       "curbweight          0\n",
       "enginetype          0\n",
       "cylindernumber      0\n",
       "enginesize          0\n",
       "fuelsystem          0\n",
       "boreratio           0\n",
       "stroke              0\n",
       "compressionratio    0\n",
       "horsepower          0\n",
       "peakrpm             0\n",
       "citympg             0\n",
       "highwaympg          0\n",
       "price               0\n",
       "dtype: int64"
      ]
     },
     "execution_count": 6,
     "metadata": {},
     "output_type": "execute_result"
    }
   ],
   "source": [
    "data.isnull().sum()"
   ]
  },
  {
   "cell_type": "code",
   "execution_count": 7,
   "metadata": {},
   "outputs": [],
   "source": [
    "X=data.iloc[:,:-1]\n",
    "y=data.iloc[:,-1]"
   ]
  },
  {
   "cell_type": "code",
   "execution_count": 8,
   "metadata": {},
   "outputs": [],
   "source": [
    "X.drop(X.select_dtypes(include='object'),axis=1,inplace=True)"
   ]
  },
  {
   "cell_type": "code",
   "execution_count": 9,
   "metadata": {},
   "outputs": [
    {
     "name": "stdout",
     "output_type": "stream",
     "text": [
      "Shape of input ==> X :(205, 15)\n",
      "Shape of output ==> Y :(205,) \n"
     ]
    }
   ],
   "source": [
    "print(f\"Shape of input ==> X :{X.shape}\\nShape of output ==> Y :{y.shape} \")"
   ]
  },
  {
   "cell_type": "code",
   "execution_count": 10,
   "metadata": {},
   "outputs": [],
   "source": [
    "X_train=X.sample(frac=0.7, replace=True, random_state=1,axis=0)\n",
    "y_train=y.sample(frac=0.7, replace=True, random_state=1,axis=0)"
   ]
  },
  {
   "cell_type": "code",
   "execution_count": 11,
   "metadata": {},
   "outputs": [],
   "source": [
    "X_test=X.sample(frac=0.3, replace=True, random_state=1,axis=0)\n",
    "y_test=y.sample(frac=0.3, replace=True, random_state=1,axis=0)"
   ]
  },
  {
   "cell_type": "code",
   "execution_count": 12,
   "metadata": {},
   "outputs": [
    {
     "name": "stdout",
     "output_type": "stream",
     "text": [
      "shape of training data is :(144, 15)\n",
      "shape of training label is :(144,)\n",
      "shape of testing data is :(62, 15)\n",
      "shape of testing label is :(62,)\n"
     ]
    }
   ],
   "source": [
    "print(f\"shape of training data is :{X_train.shape}\\nshape of training label is :{y_train.shape}\\nshape of testing data is :{X_test.shape}\\nshape of testing label is :{y_test.shape}\")"
   ]
  },
  {
   "cell_type": "code",
   "execution_count": 13,
   "metadata": {},
   "outputs": [],
   "source": [
    "X_train=np.asarray(X_train).astype(\"float32\")\n",
    "X_test=np.asarray(X_test).astype(\"float32\")"
   ]
  },
  {
   "cell_type": "code",
   "execution_count": 14,
   "metadata": {},
   "outputs": [],
   "source": [
    "mean = X_train.mean(axis=0)\n",
    "X_train-= mean\n",
    "std = X_train.std(axis=0)\n",
    "X_train/= std\n",
    "X_test-= mean\n",
    "X_test/= std"
   ]
  },
  {
   "cell_type": "code",
   "execution_count": 15,
   "metadata": {},
   "outputs": [],
   "source": [
    "y_mean = y_train.mean(axis=0)\n",
    "y_train-= y_mean\n",
    "y_std = y_train.std(axis=0)\n",
    "y_train/= y_std\n",
    "y_test-= y_mean\n",
    "y_test/= y_std"
   ]
  },
  {
   "cell_type": "code",
   "execution_count": 16,
   "metadata": {},
   "outputs": [],
   "source": [
    "val_x=X_train[:50]\n",
    "partial_x_train=X_train[50:]\n",
    "val_y=y_train[:50]\n",
    "partial_y_train=y_train[50:]"
   ]
  },
  {
   "cell_type": "code",
   "execution_count": 23,
   "metadata": {},
   "outputs": [],
   "source": [
    "network=models.Sequential()\n",
    "network.add(layers.Dense(10,activation=\"relu\" ,input_shape=(X_train.shape[1],)))\n",
    "network.add(layers.Dropout(0.2))\n",
    "network.add(layers.Dense(8,activation=\"relu\"))\n",
    "network.add(layers.Dense(6,activation=\"relu\"))\n",
    "network.add(layers.Dense(1))\n",
    "network.compile(optimizer=\"rmsprop\",loss=\"mse\",metrics=[\"mae\"])"
   ]
  },
  {
   "cell_type": "code",
   "execution_count": 24,
   "metadata": {},
   "outputs": [
    {
     "name": "stdout",
     "output_type": "stream",
     "text": [
      "Model: \"sequential_1\"\n",
      "_________________________________________________________________\n",
      "Layer (type)                 Output Shape              Param #   \n",
      "=================================================================\n",
      "dense_4 (Dense)              (None, 10)                160       \n",
      "_________________________________________________________________\n",
      "dropout_1 (Dropout)          (None, 10)                0         \n",
      "_________________________________________________________________\n",
      "dense_5 (Dense)              (None, 8)                 88        \n",
      "_________________________________________________________________\n",
      "dense_6 (Dense)              (None, 6)                 54        \n",
      "_________________________________________________________________\n",
      "dense_7 (Dense)              (None, 1)                 7         \n",
      "=================================================================\n",
      "Total params: 309\n",
      "Trainable params: 309\n",
      "Non-trainable params: 0\n",
      "_________________________________________________________________\n"
     ]
    }
   ],
   "source": [
    "network.summary()"
   ]
  },
  {
   "cell_type": "code",
   "execution_count": 25,
   "metadata": {},
   "outputs": [
    {
     "name": "stdout",
     "output_type": "stream",
     "text": [
      "Epoch 1/100\n",
      "94/94 [==============================] - 2s 9ms/step - loss: 0.6399 - mae: 0.5799 - val_loss: 1.1357 - val_mae: 0.6711\n",
      "Epoch 2/100\n",
      "94/94 [==============================] - 0s 2ms/step - loss: 0.3358 - mae: 0.3845 - val_loss: 1.0034 - val_mae: 0.6187\n",
      "Epoch 3/100\n",
      "94/94 [==============================] - 0s 2ms/step - loss: 0.2506 - mae: 0.3104 - val_loss: 0.9213 - val_mae: 0.6029\n",
      "Epoch 4/100\n",
      "94/94 [==============================] - 0s 2ms/step - loss: 0.6758 - mae: 0.4846 - val_loss: 0.8622 - val_mae: 0.5921\n",
      "Epoch 5/100\n",
      "94/94 [==============================] - 0s 2ms/step - loss: 0.6082 - mae: 0.4999 - val_loss: 0.7886 - val_mae: 0.5553\n",
      "Epoch 6/100\n",
      "94/94 [==============================] - 0s 2ms/step - loss: 0.3851 - mae: 0.3763 - val_loss: 0.7386 - val_mae: 0.5308\n",
      "Epoch 7/100\n",
      "94/94 [==============================] - 0s 2ms/step - loss: 0.5937 - mae: 0.4289 - val_loss: 0.6909 - val_mae: 0.5138\n",
      "Epoch 8/100\n",
      "94/94 [==============================] - 0s 3ms/step - loss: 0.5878 - mae: 0.4383 - val_loss: 0.6242 - val_mae: 0.4798\n",
      "Epoch 9/100\n",
      "94/94 [==============================] - 0s 3ms/step - loss: 0.5033 - mae: 0.3993 - val_loss: 0.5919 - val_mae: 0.4646\n",
      "Epoch 10/100\n",
      "94/94 [==============================] - 0s 3ms/step - loss: 0.2555 - mae: 0.2997 - val_loss: 0.5721 - val_mae: 0.4641\n",
      "Epoch 11/100\n",
      "94/94 [==============================] - 0s 2ms/step - loss: 0.3442 - mae: 0.3382 - val_loss: 0.5312 - val_mae: 0.4454\n",
      "Epoch 12/100\n",
      "94/94 [==============================] - 0s 3ms/step - loss: 0.2340 - mae: 0.3072 - val_loss: 0.5262 - val_mae: 0.4436\n",
      "Epoch 13/100\n",
      "94/94 [==============================] - 0s 3ms/step - loss: 0.5920 - mae: 0.4335 - val_loss: 0.5171 - val_mae: 0.4405\n",
      "Epoch 14/100\n",
      "94/94 [==============================] - 0s 3ms/step - loss: 0.5890 - mae: 0.4212 - val_loss: 0.4777 - val_mae: 0.4166\n",
      "Epoch 15/100\n",
      "94/94 [==============================] - 0s 3ms/step - loss: 0.2587 - mae: 0.2924 - val_loss: 0.4501 - val_mae: 0.4168\n",
      "Epoch 16/100\n",
      "94/94 [==============================] - 0s 3ms/step - loss: 0.3433 - mae: 0.3121 - val_loss: 0.4438 - val_mae: 0.4082\n",
      "Epoch 17/100\n",
      "94/94 [==============================] - 0s 2ms/step - loss: 0.4065 - mae: 0.3229 - val_loss: 0.4390 - val_mae: 0.4191\n",
      "Epoch 18/100\n",
      "94/94 [==============================] - 0s 2ms/step - loss: 0.5707 - mae: 0.3961 - val_loss: 0.4075 - val_mae: 0.3987\n",
      "Epoch 19/100\n",
      "94/94 [==============================] - 0s 2ms/step - loss: 0.3828 - mae: 0.3667 - val_loss: 0.4058 - val_mae: 0.3903\n",
      "Epoch 20/100\n",
      "94/94 [==============================] - 0s 3ms/step - loss: 0.2228 - mae: 0.2882 - val_loss: 0.3959 - val_mae: 0.3932\n",
      "Epoch 21/100\n",
      "94/94 [==============================] - 0s 3ms/step - loss: 0.3433 - mae: 0.2951 - val_loss: 0.3936 - val_mae: 0.4005\n",
      "Epoch 22/100\n",
      "94/94 [==============================] - 0s 2ms/step - loss: 0.3391 - mae: 0.3169 - val_loss: 0.3949 - val_mae: 0.3909\n",
      "Epoch 23/100\n",
      "94/94 [==============================] - 0s 2ms/step - loss: 0.4912 - mae: 0.3525 - val_loss: 0.3769 - val_mae: 0.3860\n",
      "Epoch 24/100\n",
      "94/94 [==============================] - 0s 2ms/step - loss: 0.3434 - mae: 0.2752 - val_loss: 0.3673 - val_mae: 0.3808\n",
      "Epoch 25/100\n",
      "94/94 [==============================] - 0s 2ms/step - loss: 0.1766 - mae: 0.2618 - val_loss: 0.3432 - val_mae: 0.3651\n",
      "Epoch 26/100\n",
      "94/94 [==============================] - 0s 2ms/step - loss: 0.1999 - mae: 0.2547 - val_loss: 0.3329 - val_mae: 0.3612\n",
      "Epoch 27/100\n",
      "94/94 [==============================] - 0s 2ms/step - loss: 0.3048 - mae: 0.2972 - val_loss: 0.3161 - val_mae: 0.3568\n",
      "Epoch 28/100\n",
      "94/94 [==============================] - 0s 2ms/step - loss: 0.1234 - mae: 0.2073 - val_loss: 0.2869 - val_mae: 0.3497\n",
      "Epoch 29/100\n",
      "94/94 [==============================] - 0s 2ms/step - loss: 0.2649 - mae: 0.2980 - val_loss: 0.2980 - val_mae: 0.3530\n",
      "Epoch 30/100\n",
      "94/94 [==============================] - 0s 2ms/step - loss: 0.1459 - mae: 0.2358 - val_loss: 0.2857 - val_mae: 0.3429\n",
      "Epoch 31/100\n",
      "94/94 [==============================] - 0s 3ms/step - loss: 0.1573 - mae: 0.2031 - val_loss: 0.2749 - val_mae: 0.3333\n",
      "Epoch 32/100\n",
      "94/94 [==============================] - 0s 2ms/step - loss: 0.1958 - mae: 0.2242 - val_loss: 0.2693 - val_mae: 0.3345\n",
      "Epoch 33/100\n",
      "94/94 [==============================] - 0s 3ms/step - loss: 0.1487 - mae: 0.2369 - val_loss: 0.2612 - val_mae: 0.3297\n",
      "Epoch 34/100\n",
      "94/94 [==============================] - 0s 2ms/step - loss: 0.4055 - mae: 0.3312 - val_loss: 0.2748 - val_mae: 0.3349\n",
      "Epoch 35/100\n",
      "94/94 [==============================] - 0s 2ms/step - loss: 0.1365 - mae: 0.2194 - val_loss: 0.2816 - val_mae: 0.3451\n",
      "Epoch 36/100\n",
      "94/94 [==============================] - 0s 3ms/step - loss: 0.1556 - mae: 0.2353 - val_loss: 0.2674 - val_mae: 0.3383\n",
      "Epoch 37/100\n",
      "94/94 [==============================] - 0s 2ms/step - loss: 0.1594 - mae: 0.2212 - val_loss: 0.2577 - val_mae: 0.3268\n",
      "Epoch 38/100\n",
      "94/94 [==============================] - 0s 3ms/step - loss: 0.2277 - mae: 0.2369 - val_loss: 0.2498 - val_mae: 0.3305\n",
      "Epoch 39/100\n",
      "94/94 [==============================] - 0s 2ms/step - loss: 0.4617 - mae: 0.3032 - val_loss: 0.2513 - val_mae: 0.3372\n",
      "Epoch 40/100\n",
      "94/94 [==============================] - 0s 2ms/step - loss: 0.1040 - mae: 0.2098 - val_loss: 0.2353 - val_mae: 0.3142\n",
      "Epoch 41/100\n",
      "94/94 [==============================] - 0s 3ms/step - loss: 0.1730 - mae: 0.2508 - val_loss: 0.2286 - val_mae: 0.3128\n",
      "Epoch 42/100\n",
      "94/94 [==============================] - 0s 4ms/step - loss: 0.2684 - mae: 0.2843 - val_loss: 0.2299 - val_mae: 0.3177\n",
      "Epoch 43/100\n",
      "94/94 [==============================] - 0s 2ms/step - loss: 0.1530 - mae: 0.2280 - val_loss: 0.2171 - val_mae: 0.3111\n",
      "Epoch 44/100\n",
      "94/94 [==============================] - 0s 2ms/step - loss: 0.1369 - mae: 0.2352 - val_loss: 0.2184 - val_mae: 0.3071\n",
      "Epoch 45/100\n",
      "94/94 [==============================] - 0s 3ms/step - loss: 0.1903 - mae: 0.2365 - val_loss: 0.2205 - val_mae: 0.3062\n",
      "Epoch 46/100\n",
      "94/94 [==============================] - 0s 2ms/step - loss: 0.1892 - mae: 0.2669 - val_loss: 0.2383 - val_mae: 0.3256\n",
      "Epoch 47/100\n",
      "94/94 [==============================] - 0s 2ms/step - loss: 0.1011 - mae: 0.1864 - val_loss: 0.2077 - val_mae: 0.3033\n",
      "Epoch 48/100\n",
      "94/94 [==============================] - 0s 3ms/step - loss: 0.1921 - mae: 0.2071 - val_loss: 0.2058 - val_mae: 0.3031\n",
      "Epoch 49/100\n",
      "94/94 [==============================] - 0s 2ms/step - loss: 0.0932 - mae: 0.1842 - val_loss: 0.2116 - val_mae: 0.3082\n",
      "Epoch 50/100\n",
      "94/94 [==============================] - 0s 2ms/step - loss: 0.1316 - mae: 0.1895 - val_loss: 0.2021 - val_mae: 0.3056\n",
      "Epoch 51/100\n",
      "94/94 [==============================] - 0s 2ms/step - loss: 0.1500 - mae: 0.2163 - val_loss: 0.1996 - val_mae: 0.2984\n",
      "Epoch 52/100\n",
      "94/94 [==============================] - 0s 2ms/step - loss: 0.3167 - mae: 0.2441 - val_loss: 0.2149 - val_mae: 0.3147\n",
      "Epoch 53/100\n",
      "94/94 [==============================] - 0s 3ms/step - loss: 0.2472 - mae: 0.2418 - val_loss: 0.2110 - val_mae: 0.3171\n",
      "Epoch 54/100\n",
      "94/94 [==============================] - 0s 2ms/step - loss: 0.1005 - mae: 0.1865 - val_loss: 0.2082 - val_mae: 0.3151\n",
      "Epoch 55/100\n",
      "94/94 [==============================] - 0s 2ms/step - loss: 0.1095 - mae: 0.1939 - val_loss: 0.1965 - val_mae: 0.3024\n",
      "Epoch 56/100\n",
      "94/94 [==============================] - 0s 2ms/step - loss: 0.1850 - mae: 0.2833 - val_loss: 0.2007 - val_mae: 0.3043\n",
      "Epoch 57/100\n",
      "94/94 [==============================] - 0s 2ms/step - loss: 0.1028 - mae: 0.2046 - val_loss: 0.1832 - val_mae: 0.2973\n",
      "Epoch 58/100\n",
      "94/94 [==============================] - 0s 2ms/step - loss: 0.1547 - mae: 0.2232 - val_loss: 0.2036 - val_mae: 0.3050\n",
      "Epoch 59/100\n",
      "94/94 [==============================] - 0s 3ms/step - loss: 0.1037 - mae: 0.1987 - val_loss: 0.1892 - val_mae: 0.2988\n",
      "Epoch 60/100\n",
      "94/94 [==============================] - 0s 2ms/step - loss: 0.1079 - mae: 0.2115 - val_loss: 0.1868 - val_mae: 0.3055\n",
      "Epoch 61/100\n",
      "94/94 [==============================] - 0s 2ms/step - loss: 0.0908 - mae: 0.1764 - val_loss: 0.2043 - val_mae: 0.3102\n",
      "Epoch 62/100\n",
      "94/94 [==============================] - 0s 3ms/step - loss: 0.1276 - mae: 0.1726 - val_loss: 0.2087 - val_mae: 0.3113\n",
      "Epoch 63/100\n",
      "94/94 [==============================] - 0s 2ms/step - loss: 0.1250 - mae: 0.1959 - val_loss: 0.1925 - val_mae: 0.3061\n",
      "Epoch 64/100\n",
      "94/94 [==============================] - 0s 3ms/step - loss: 0.0585 - mae: 0.1569 - val_loss: 0.1844 - val_mae: 0.3132\n",
      "Epoch 65/100\n",
      "94/94 [==============================] - 0s 3ms/step - loss: 0.1074 - mae: 0.2085 - val_loss: 0.1822 - val_mae: 0.2979\n",
      "Epoch 66/100\n",
      "94/94 [==============================] - 0s 2ms/step - loss: 0.0715 - mae: 0.1553 - val_loss: 0.1910 - val_mae: 0.3094\n",
      "Epoch 67/100\n",
      "94/94 [==============================] - 0s 2ms/step - loss: 0.0770 - mae: 0.1893 - val_loss: 0.1852 - val_mae: 0.3072\n",
      "Epoch 68/100\n",
      "94/94 [==============================] - 0s 3ms/step - loss: 0.0945 - mae: 0.2044 - val_loss: 0.1879 - val_mae: 0.3043\n",
      "Epoch 69/100\n",
      "94/94 [==============================] - 0s 3ms/step - loss: 0.1994 - mae: 0.2664 - val_loss: 0.1835 - val_mae: 0.3047\n",
      "Epoch 70/100\n",
      "94/94 [==============================] - 0s 2ms/step - loss: 0.1114 - mae: 0.1561 - val_loss: 0.1870 - val_mae: 0.3032\n",
      "Epoch 71/100\n",
      "94/94 [==============================] - 0s 2ms/step - loss: 0.0632 - mae: 0.1668 - val_loss: 0.1915 - val_mae: 0.3081\n",
      "Epoch 72/100\n",
      "94/94 [==============================] - 0s 2ms/step - loss: 0.0980 - mae: 0.2055 - val_loss: 0.1779 - val_mae: 0.2926\n",
      "Epoch 73/100\n",
      "94/94 [==============================] - 0s 2ms/step - loss: 0.1068 - mae: 0.1608 - val_loss: 0.1894 - val_mae: 0.3042\n",
      "Epoch 74/100\n",
      "94/94 [==============================] - 0s 2ms/step - loss: 0.0817 - mae: 0.1791 - val_loss: 0.1786 - val_mae: 0.3003\n",
      "Epoch 75/100\n",
      "94/94 [==============================] - 0s 3ms/step - loss: 0.0998 - mae: 0.2262 - val_loss: 0.1882 - val_mae: 0.2996\n",
      "Epoch 76/100\n",
      "94/94 [==============================] - 0s 2ms/step - loss: 0.0626 - mae: 0.1669 - val_loss: 0.1856 - val_mae: 0.2976\n",
      "Epoch 77/100\n",
      "94/94 [==============================] - 0s 2ms/step - loss: 0.1023 - mae: 0.2102 - val_loss: 0.1737 - val_mae: 0.2860\n",
      "Epoch 78/100\n",
      "94/94 [==============================] - 0s 2ms/step - loss: 0.0990 - mae: 0.1820 - val_loss: 0.1869 - val_mae: 0.2971\n",
      "Epoch 79/100\n",
      "94/94 [==============================] - 0s 3ms/step - loss: 0.1363 - mae: 0.2005 - val_loss: 0.1807 - val_mae: 0.2985\n",
      "Epoch 80/100\n",
      "94/94 [==============================] - 0s 2ms/step - loss: 0.0986 - mae: 0.1788 - val_loss: 0.1881 - val_mae: 0.2972\n",
      "Epoch 81/100\n",
      "94/94 [==============================] - 0s 3ms/step - loss: 0.0687 - mae: 0.1736 - val_loss: 0.1740 - val_mae: 0.2844\n",
      "Epoch 82/100\n",
      "94/94 [==============================] - 0s 3ms/step - loss: 0.0752 - mae: 0.1704 - val_loss: 0.1834 - val_mae: 0.2942\n",
      "Epoch 83/100\n",
      "94/94 [==============================] - 0s 3ms/step - loss: 0.3134 - mae: 0.2361 - val_loss: 0.2044 - val_mae: 0.3081\n",
      "Epoch 84/100\n",
      "94/94 [==============================] - 0s 3ms/step - loss: 0.0848 - mae: 0.1656 - val_loss: 0.1935 - val_mae: 0.2971\n",
      "Epoch 85/100\n",
      "94/94 [==============================] - 0s 3ms/step - loss: 0.1723 - mae: 0.2133 - val_loss: 0.2030 - val_mae: 0.3060\n",
      "Epoch 86/100\n",
      "94/94 [==============================] - 0s 2ms/step - loss: 0.0825 - mae: 0.1743 - val_loss: 0.1996 - val_mae: 0.3003\n",
      "Epoch 87/100\n",
      "94/94 [==============================] - 0s 2ms/step - loss: 0.0743 - mae: 0.1628 - val_loss: 0.2079 - val_mae: 0.3074\n",
      "Epoch 88/100\n",
      "94/94 [==============================] - 0s 2ms/step - loss: 0.0549 - mae: 0.1541 - val_loss: 0.2029 - val_mae: 0.3067\n",
      "Epoch 89/100\n",
      "94/94 [==============================] - 0s 2ms/step - loss: 0.1047 - mae: 0.1982 - val_loss: 0.1895 - val_mae: 0.2981\n",
      "Epoch 90/100\n",
      "94/94 [==============================] - 0s 2ms/step - loss: 0.0762 - mae: 0.1532 - val_loss: 0.1956 - val_mae: 0.3000\n",
      "Epoch 91/100\n",
      "94/94 [==============================] - 0s 2ms/step - loss: 0.0712 - mae: 0.1585 - val_loss: 0.1934 - val_mae: 0.3018\n",
      "Epoch 92/100\n",
      "94/94 [==============================] - 0s 3ms/step - loss: 0.0802 - mae: 0.1606 - val_loss: 0.2129 - val_mae: 0.3165\n",
      "Epoch 93/100\n",
      "94/94 [==============================] - 0s 3ms/step - loss: 0.3783 - mae: 0.2545 - val_loss: 0.2010 - val_mae: 0.3044\n",
      "Epoch 94/100\n",
      "94/94 [==============================] - 0s 3ms/step - loss: 0.2747 - mae: 0.2188 - val_loss: 0.2150 - val_mae: 0.3119\n",
      "Epoch 95/100\n",
      "94/94 [==============================] - 0s 3ms/step - loss: 0.1211 - mae: 0.1887 - val_loss: 0.1973 - val_mae: 0.3156\n",
      "Epoch 96/100\n",
      "94/94 [==============================] - 0s 3ms/step - loss: 0.0939 - mae: 0.2099 - val_loss: 0.2028 - val_mae: 0.3023\n",
      "Epoch 97/100\n",
      "94/94 [==============================] - 0s 3ms/step - loss: 0.0481 - mae: 0.1362 - val_loss: 0.2011 - val_mae: 0.3142\n",
      "Epoch 98/100\n",
      "94/94 [==============================] - 0s 2ms/step - loss: 0.0703 - mae: 0.1462 - val_loss: 0.1984 - val_mae: 0.3067\n",
      "Epoch 99/100\n",
      "94/94 [==============================] - 0s 3ms/step - loss: 0.1006 - mae: 0.1895 - val_loss: 0.1848 - val_mae: 0.3019\n",
      "Epoch 100/100\n",
      "94/94 [==============================] - 0s 2ms/step - loss: 0.0312 - mae: 0.1174 - val_loss: 0.1929 - val_mae: 0.2934\n"
     ]
    }
   ],
   "source": [
    "history=network.fit(partial_x_train, partial_y_train,epochs=100, batch_size=1, verbose=1,validation_data=(val_x,val_y))"
   ]
  },
  {
   "cell_type": "code",
   "execution_count": 26,
   "metadata": {},
   "outputs": [
    {
     "data": {
      "image/png": "[encoded data removed]",
      "text/plain": [
       "<Figure size 432x288 with 1 Axes>"
      ]
     },
     "metadata": {
      "needs_background": "light"
     },
     "output_type": "display_data"
    }
   ],
   "source": [
    "loss = history.history['loss']\n",
    "val_loss = history.history['val_loss']\n",
    "epochs = range(1, len(loss) + 1)\n",
    "plt.plot(epochs, loss,\"go\",label='Training loss')\n",
    "plt.plot(epochs, val_loss, 'r', label='Validation loss')\n",
    "plt.title('Training and validation loss')\n",
    "plt.xlabel('Epochs')\n",
    "plt.ylabel('Loss')\n",
    "plt.legend()\n",
    "plt.grid()\n",
    "plt.show()"
   ]
  },
  {
   "cell_type": "code",
   "execution_count": 27,
   "metadata": {},
   "outputs": [
    {
     "name": "stdout",
     "output_type": "stream",
     "text": [
      "2/2 [==============================] - 0s 3ms/step - loss: 0.1660 - mae: 0.2693\n"
     ]
    },
    {
     "data": {
      "text/plain": [
       "[0.1660327911376953, 0.2693166136741638]"
      ]
     },
     "execution_count": 27,
     "metadata": {},
     "output_type": "execute_result"
    }
   ],
   "source": [
    "network.evaluate(X_test,y_test)"
   ]
  },
  {
   "cell_type": "code",
   "execution_count": 28,
   "metadata": {},
   "outputs": [
    {
     "data": {
      "text/plain": [
       "array([1.0152187], dtype=float32)"
      ]
     },
     "execution_count": 28,
     "metadata": {},
     "output_type": "execute_result"
    }
   ],
   "source": [
    "result_1=network.predict(X_test)\n",
    "result_1[4]"
   ]
  },
  {
   "cell_type": "code",
   "execution_count": 36,
   "metadata": {},
   "outputs": [
    {
     "data": {
      "image/png": "[encoded data removed]",
      "text/plain": [
       "<Figure size 432x288 with 1 Axes>"
      ]
     },
     "metadata": {
      "needs_background": "light"
     },
     "output_type": "display_data"
    }
   ],
   "source": [
    "y=result_1\n",
    "y1=range(62)\n",
    "x=y_test\n",
    "plt.scatter(x, y1, label= \"Actual price\", color= \"green\", marker= \".\", s=80)\n",
    "plt.scatter(y, y1, label= \"Predicted Price\", color= \"red\", marker= \".\", s=80)\n",
    "plt.xlabel('Price')\n",
    "plt.ylabel('Rows')\n",
    "plt.title('Actual price vs predicted price!')\n",
    "plt.legend()\n",
    "plt.grid()\n",
    "plt.show()"
   ]
  },
  {
   "cell_type": "code",
   "execution_count": null,
   "metadata": {},
   "outputs": [],
   "source": []
  }
 ],
 "metadata": {
  "kernelspec": {
   "display_name": "Python 3",
   "language": "python",
   "name": "python3"
  },
  "language_info": {
   "codemirror_mode": {
    "name": "ipython",
    "version": 3
   },
   "file_extension": ".py",
   "mimetype": "text/x-python",
   "name": "python",
   "nbconvert_exporter": "python",
   "pygments_lexer": "ipython3",
   "version": "3.7.6"
  }
 },
 "nbformat": 4,
 "nbformat_minor": 4
}
